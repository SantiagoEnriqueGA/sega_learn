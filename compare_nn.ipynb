{
 "cells": [
  {
   "cell_type": "code",
   "execution_count": 1,
   "metadata": {},
   "outputs": [],
   "source": [
    "import numpy as np\n",
    "from sega_learn.neural_networks.neuralNetwork import NeuralNetwork"
   ]
  },
  {
   "cell_type": "code",
   "execution_count": 2,
   "metadata": {},
   "outputs": [],
   "source": [
    "# Sample data\n",
    "X_train = np.random.randn(100, 10)\n",
    "y_train = np.random.randint(0, 2, 100)\n",
    "# One-hot encoding\n",
    "y_train_ohe = np.eye(2)[y_train]\n",
    "\n",
    "X_val = np.random.randn(20, 10)\n",
    "y_val = np.random.randint(0, 2, 20)"
   ]
  },
  {
   "cell_type": "code",
   "execution_count": 3,
   "metadata": {},
   "outputs": [],
   "source": [
    "# Neural network configurations\n",
    "layer_sizes = [10, 5, 3, 2]\n",
    "dropout_rate = 0\n",
    "reg_lambda = 0\n",
    "activations = ['relu', 'relu', 'relu']"
   ]
  },
  {
   "cell_type": "code",
   "execution_count": 4,
   "metadata": {},
   "outputs": [],
   "source": [
    "# Initialize neural networks\n",
    "nn_numba = NeuralNetwork(layer_sizes, dropout_rate, reg_lambda, activations, use_numba=True, compile_numba=False)\n",
    "nn_no_numba = NeuralNetwork(layer_sizes, dropout_rate, reg_lambda, activations, use_numba=False)"
   ]
  },
  {
   "cell_type": "code",
   "execution_count": 5,
   "metadata": {},
   "outputs": [
    {
     "name": "stdout",
     "output_type": "stream",
     "text": [
      "Weights are equal!\n",
      "Biases are equal!\n"
     ]
    }
   ],
   "source": [
    "# Models are initialized with the same parameters but receive different randomized weights and biases\n",
    "\n",
    "# Set weights to the same values for comparison\n",
    "for i in range(len(nn_numba.weights)):\n",
    "    nn_numba.weights[i] = np.random.randn(*nn_numba.weights[i].shape)\n",
    "    nn_no_numba.weights[i] = nn_numba.weights[i].copy()\n",
    "    \n",
    "# Set biases to the same values for comparison\n",
    "for i in range(len(nn_numba.biases)):\n",
    "    nn_numba.biases[i] = np.random.randn(*nn_numba.biases[i].shape)\n",
    "    nn_no_numba.biases[i] = nn_numba.biases[i].copy()\n",
    "\n",
    "# Assert equality of weights\n",
    "for w1, w2 in zip(nn_numba.weights, nn_no_numba.weights):\n",
    "    assert np.array_equal(w1, w2), \"Weights are not equal!\"\n",
    "print(\"Weights are equal!\")\n",
    "\n",
    "# Assert equality of biases\n",
    "for b1, b2 in zip(nn_numba.biases, nn_no_numba.biases):\n",
    "    assert np.array_equal(b1, b2), \"Biases are not equal!\"\n",
    "print(\"Biases are equal!\")"
   ]
  },
  {
   "cell_type": "code",
   "execution_count": 6,
   "metadata": {},
   "outputs": [
    {
     "name": "stdout",
     "output_type": "stream",
     "text": [
      "Layer weights are equal!\n",
      "Layer biases are equal!\n"
     ]
    }
   ],
   "source": [
    "# Model Layers are initialized with the same parameters but receive different randomized weights and biases\n",
    "\n",
    "# Set weights and biases to the same values for comparison\n",
    "for i in range(len(nn_numba.layers)):\n",
    "    nn_numba.layers[i].weights = np.random.randn(*nn_numba.layers[i].weights.shape)\n",
    "    nn_no_numba.layers[i].weights = nn_numba.layers[i].weights.copy()\n",
    "    \n",
    "    nn_numba.layers[i].biases = np.random.randn(*nn_numba.layers[i].biases.shape)\n",
    "    nn_no_numba.layers[i].biases = nn_numba.layers[i].biases.copy()\n",
    "\n",
    "# Assert equality of weights\n",
    "for l1, l2 in zip(nn_numba.layers, nn_no_numba.layers):\n",
    "    assert np.array_equal(l1.weights, l2.weights), \"Layer weights are not equal!\"\n",
    "print(\"Layer weights are equal!\")\n",
    "\n",
    "# Assert equality of biases\n",
    "for l1, l2 in zip(nn_numba.layers, nn_no_numba.layers):\n",
    "    assert np.array_equal(l1.biases, l2.biases), \"Layer biases are not equal!\"\n",
    "print(\"Layer biases are equal!\")"
   ]
  },
  {
   "cell_type": "code",
   "execution_count": 7,
   "metadata": {},
   "outputs": [
    {
     "name": "stdout",
     "output_type": "stream",
     "text": [
      "Forward pass outputs are equal within tolerance of 0.01.\n"
     ]
    }
   ],
   "source": [
    "# Forward pass comparison\n",
    "output_numba = nn_numba.forward(X_train)\n",
    "output_no_numba = nn_no_numba.forward(X_train)\n",
    "\n",
    "tolerance = 1e-2\n",
    "if np.allclose(output_numba, output_no_numba, atol=tolerance):\n",
    "    print(f\"Forward pass outputs are equal within tolerance of {tolerance}.\")\n",
    "else:\n",
    "    print(f\"Forward pass outputs are not equal within tolerance of {tolerance}.\")\n",
    "    print(f\"First 5 outputs (Numba): \\n{output_numba[:5]}\")\n",
    "    print(f\"First 5 outputs (No Numba): \\n{output_no_numba[:5]}\")"
   ]
  },
  {
   "cell_type": "code",
   "execution_count": 8,
   "metadata": {},
   "outputs": [
    {
     "name": "stdout",
     "output_type": "stream",
     "text": [
      "\n",
      "Comparing gradients:\n",
      "---------------------------------------------------------------------------\n",
      "Layer 0 weight gradients are not equal within tolerance of 0.01.\n",
      "First non-equal element at index 0:\n",
      "Numba   0: [ 0.0434958   0.00952862 -0.03480999 -0.00217476 -0.00431811]\n",
      "Vanilla 0: [ 0.08096992 -0.02321791  0.00917463 -0.02276502  0.02424956]\n",
      "\n",
      "Layer 1 weight gradients are not equal within tolerance of 0.01.\n",
      "First non-equal element at index 0:\n",
      "Numba   0: [ 0.4040638  -0.08350137  0.20198455]\n",
      "Vanilla 0: [0.74994496 0.5420762  0.4779987 ]\n",
      "\n",
      "Layer 2 weight gradients are equal within tolerance of 0.01.\n",
      "\n",
      "Comparing biases:\n",
      "---------------------------------------------------------------------------\n",
      "Layer 0 bias gradients are not equal within tolerance of 0.01.\n",
      "First non-equal element at index 0:\n",
      "Numba   0: [ 0.20049063  0.07895708 -0.09315961  0.01468131 -0.05082866]\n",
      "Vanilla 0: [ 0.2780606  -0.06528172  0.06557862  0.15358646  0.29802422]\n",
      "\n",
      "Layer 1 bias gradients are not equal within tolerance of 0.01.\n",
      "First non-equal element at index 0:\n",
      "Numba   0: [ 0.27751315 -0.01882812  0.16589297]\n",
      "Vanilla 0: [0.51506615 0.12222886 0.39258757]\n",
      "\n",
      "Layer 2 bias gradients are equal within tolerance of 0.01.\n"
     ]
    }
   ],
   "source": [
    "# Backward pass comparison\n",
    "\n",
    "# Zero gradients for both models\n",
    "for i, layer in enumerate(nn_numba.layers):\n",
    "    layer.zero_grad()\n",
    "    nn_numba.dWs_cache[i].fill(0)\n",
    "    nn_numba.dbs_cache[i].fill(0)\n",
    "for i, layer in enumerate(nn_no_numba.layers):\n",
    "    layer.zero_grad()\n",
    "\n",
    "nn_numba.backward(y_train)\n",
    "nn_no_numba.backward(y_train)\n",
    "\n",
    "# Layers gradients comparison\n",
    "# Numba stores in seperate weight_gradients and bias_gradients\n",
    "# Vanilla stores in gradients as a list of tuples (dW, db)\n",
    "# Compare gradients\n",
    "\n",
    "tolerance = 1e-2\n",
    "\n",
    "print(\"\\nComparing gradients:\")\n",
    "print(\"-\"*75, end=\"\")\n",
    "for i in range(len(nn_numba.layers)):\n",
    "    weights_close = np.allclose(nn_numba.layers[i].weight_gradients, nn_no_numba.layers[i].gradients[0], atol=tolerance)\n",
    "    if not weights_close:\n",
    "        print(f\"\\nLayer {i} weight gradients are not equal within tolerance of {tolerance}.\")\n",
    "        # Find index of first non-equal element\n",
    "        diff_index = np.where(nn_numba.layers[i].weight_gradients != nn_no_numba.layers[i].gradients[0])[0][0]\n",
    "        print(f\"First non-equal element at index {diff_index}:\")\n",
    "        print(f\"Numba   {diff_index}: {nn_numba.layers[i].weight_gradients[diff_index]}\")\n",
    "        print(f\"Vanilla {diff_index}: {nn_no_numba.layers[i].gradients[0][diff_index]}\")\n",
    "        \n",
    "    else:\n",
    "        print(f\"\\nLayer {i} weight gradients are equal within tolerance of {tolerance}.\")\n",
    "\n",
    "print(\"\\nComparing biases:\")\n",
    "print(\"-\"*75, end=\"\")\n",
    "for i in range(len(nn_numba.layers)):\n",
    "    biases_close = np.allclose(nn_numba.layers[i].bias_gradients, nn_no_numba.layers[i].gradients[1], atol=tolerance)\n",
    "    if not biases_close:\n",
    "        print(f\"\\nLayer {i} bias gradients are not equal within tolerance of {tolerance}.\")\n",
    "        # Find index of first non-equal element\n",
    "        diff_index = np.where(nn_numba.layers[i].bias_gradients != nn_no_numba.layers[i].gradients[1])[0][0]\n",
    "        print(f\"First non-equal element at index {diff_index}:\")\n",
    "        print(f\"Numba   {diff_index}: {nn_numba.layers[i].bias_gradients[diff_index]}\")\n",
    "        print(f\"Vanilla {diff_index}: {nn_no_numba.layers[i].gradients[1][diff_index]}\")\n",
    "        \n",
    "    else:\n",
    "        print(f\"\\nLayer {i} bias gradients are equal within tolerance of {tolerance}.\")\n",
    "        "
   ]
  },
  {
   "cell_type": "code",
   "execution_count": 9,
   "metadata": {},
   "outputs": [
    {
     "name": "stdout",
     "output_type": "stream",
     "text": [
      "Epoch 1/1 - Loss: 0.7659, Acc: 0.5400, Val Loss: 0.7415, Val Acc: 0.5500\n",
      "Epoch 1/1 - Loss: 0.7658, Acc: 0.5400, Val Loss: 0.7414, Val Acc: 0.5500\n",
      "Training losses are equal to within tolerance of 0.001: True\n",
      "\tNumba loss:   0.7415464788683098\n",
      "\tVanilla loss: 0.7414206072942819\n"
     ]
    }
   ],
   "source": [
    "# Training comparison\n",
    "nn_numba.train(X_train, y_train, X_val, y_val, epochs=1, batch_size=10, use_tqdm=False)\n",
    "nn_no_numba.train(X_train, y_train, X_val, y_val, epochs=1, batch_size=10, use_tqdm=False)\n",
    "\n",
    "# Get losses\n",
    "loss_numba = nn_numba.calculate_loss(X_val, y_val)\n",
    "loss_no_numba = nn_no_numba.calculate_loss(X_val, y_val)\n",
    "\n",
    "tolerance = 1e-3\n",
    "print(f\"Training losses are equal to within tolerance of {tolerance}: {np.allclose(loss_numba, loss_no_numba, atol=tolerance)}\")\n",
    "print(f\"\\tNumba loss:   {loss_numba}\\n\\tVanilla loss: {loss_no_numba}\")"
   ]
  },
  {
   "cell_type": "code",
   "execution_count": 10,
   "metadata": {},
   "outputs": [
    {
     "name": "stdout",
     "output_type": "stream",
     "text": [
      "Evaluation accuracies are equal to within tolerance of 0.001: True\n",
      "\tNumba accuracy:   0.55\n",
      "\tVanilla accuracy: 0.55\n"
     ]
    }
   ],
   "source": [
    "# Evaluation comparison\n",
    "accuracy_numba, _ = nn_numba.evaluate(X_val, y_val)\n",
    "accuracy_no_numba, _ = nn_no_numba.evaluate(X_val, y_val)\n",
    "\n",
    "tolerance = 1e-3\n",
    "print(f\"Evaluation accuracies are equal to within tolerance of {tolerance}: {np.allclose(accuracy_numba, accuracy_no_numba, atol=tolerance)}\")\n",
    "print(f\"\\tNumba accuracy:   {accuracy_numba}\\n\\tVanilla accuracy: {accuracy_no_numba}\")\n"
   ]
  }
 ],
 "metadata": {
  "kernelspec": {
   "display_name": "sega_learn",
   "language": "python",
   "name": "python3"
  },
  "language_info": {
   "codemirror_mode": {
    "name": "ipython",
    "version": 3
   },
   "file_extension": ".py",
   "mimetype": "text/x-python",
   "name": "python",
   "nbconvert_exporter": "python",
   "pygments_lexer": "ipython3",
   "version": "3.11.11"
  }
 },
 "nbformat": 4,
 "nbformat_minor": 2
}
