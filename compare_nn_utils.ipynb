{
 "cells": [
  {
   "cell_type": "code",
   "execution_count": null,
   "metadata": {},
   "outputs": [],
   "source": [
    "import numpy as np\n",
    "import time\n",
    "from sega_learn.neural_networks.neuralNetwork import *\n",
    "from sega_learn.neural_networks.numba_utils import (\n",
    "    relu as relu_nb, \n",
    "    relu_derivative as relu_derivative_nb,\n",
    "    leaky_relu as leaky_relu_nb,\n",
    "    leaky_relu_derivative as leaky_relu_derivative_nb,\n",
    "    tanh as tanh_nb,\n",
    "    tanh_derivative as tanh_derivative_nb,\n",
    "    sigmoid as sigmoid_nb,\n",
    "    sigmoid_derivative as sigmoid_derivative_nb,\n",
    "    softmax as softmax_nb,\n",
    ")\n",
    "\n",
    "from sega_learn.neural_networks.numba_utils import sum_axis0, sum_reduce"
   ]
  },
  {
   "cell_type": "code",
   "execution_count": null,
   "metadata": {},
   "outputs": [],
   "source": [
    "def compare_outputs(func1, func2, *args):\n",
    "    output1 = func1(*args)\n",
    "    output2 = func2(*args)\n",
    "    if np.array_equal(output1, output2):\n",
    "        # print(f\"{func1.__name__} and {func2.__name__} outputs equal.\")\n",
    "        pass\n",
    "    else:\n",
    "        print(f\"{func1.__name__} and {func2.__name__} outputs differ.\")"
   ]
  },
  {
   "cell_type": "code",
   "execution_count": null,
   "metadata": {},
   "outputs": [],
   "source": [
    "def compare_activation_functions():\n",
    "    z = np.random.randn(1000, 1000)\n",
    "\n",
    "    # ReLU\n",
    "    compare_outputs(Activation.relu, relu_nb, z)\n",
    "\n",
    "    # ReLU Derivative\n",
    "    compare_outputs(Activation.relu_derivative, relu_derivative_nb, z)\n",
    "\n",
    "    # Leaky ReLU\n",
    "    compare_outputs(Activation.leaky_relu, leaky_relu_nb, z)\n",
    "\n",
    "    # Leaky ReLU Derivative\n",
    "    compare_outputs(Activation.leaky_relu_derivative, leaky_relu_derivative_nb, z)\n",
    "\n",
    "    # Tanh\n",
    "    compare_outputs(Activation.tanh, tanh_nb, z)\n",
    "\n",
    "    # Tanh Derivative\n",
    "    compare_outputs(Activation.tanh_derivative, tanh_derivative_nb, z)\n",
    "\n",
    "    # Sigmoid\n",
    "    compare_outputs(Activation.sigmoid, sigmoid_nb, z)\n",
    "\n",
    "    # Sigmoid Derivative\n",
    "    compare_outputs(Activation.sigmoid_derivative, sigmoid_derivative_nb, z)\n",
    "\n",
    "    # Softmax\n",
    "    compare_outputs(Activation.softmax, softmax_nb, z)"
   ]
  },
  {
   "cell_type": "code",
   "execution_count": 19,
   "metadata": {},
   "outputs": [
    {
     "name": "stdout",
     "output_type": "stream",
     "text": [
      "tanh and tanh outputs differ.\n",
      "tanh_derivative and tanh_derivative outputs differ.\n",
      "softmax and softmax outputs differ.\n"
     ]
    }
   ],
   "source": [
    "compare_activation_functions()"
   ]
  },
  {
   "cell_type": "code",
   "execution_count": null,
   "metadata": {},
   "outputs": [
    {
     "name": "stdout",
     "output_type": "stream",
     "text": [
      "Results match!\n"
     ]
    }
   ],
   "source": [
    "# Generate random data\n",
    "X = np.random.randn(1000, 1000)\n",
    "\n",
    "# Result for np.sum\n",
    "np_sum_result = np.sum(X, axis=0, keepdims=True)\n",
    "\n",
    "# Result for sum_axis0\n",
    "sum_axis0_result = sum_axis0(X)\n",
    "\n",
    "# Verify that results are the same\n",
    "tolerance = 1e-6\n",
    "if np.allclose(np_sum_result, sum_axis0_result, atol=tolerance):\n",
    "    print(\"Results match!\")\n",
    "else:\n",
    "    print(\"Results do not match!\")\n",
    "    diff_index = np.where(np.abs(np_sum_result - sum_axis0_result) > tolerance)[0][0]\n",
    "    print(f\"Difference found at index {diff_index}: {np_sum_result[0, diff_index]} vs {sum_axis0_result[diff_index]}\")"
   ]
  }
 ],
 "metadata": {
  "kernelspec": {
   "display_name": "sega_learn",
   "language": "python",
   "name": "python3"
  },
  "language_info": {
   "codemirror_mode": {
    "name": "ipython",
    "version": 3
   },
   "file_extension": ".py",
   "mimetype": "text/x-python",
   "name": "python",
   "nbconvert_exporter": "python",
   "pygments_lexer": "ipython3",
   "version": "3.11.11"
  }
 },
 "nbformat": 4,
 "nbformat_minor": 2
}
